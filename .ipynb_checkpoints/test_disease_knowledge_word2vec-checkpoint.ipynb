{
 "cells": [
  {
   "cell_type": "code",
   "execution_count": 1,
   "metadata": {},
   "outputs": [
    {
     "name": "stderr",
     "output_type": "stream",
     "text": [
      "D:\\Anaconda3\\envs\\tensorflow\\lib\\site-packages\\gensim\\utils.py:860: UserWarning: detected Windows; aliasing chunkize to chunkize_serial\n",
      "  warnings.warn(\"detected Windows; aliasing chunkize to chunkize_serial\")\n"
     ]
    }
   ],
   "source": [
    "from gensim.models import word2vec\n",
    "\n",
    "model = word2vec.Word2Vec.load(\"disease_knowledge_data/model/20180317disese_knowledge_model\")"
   ]
  },
  {
   "cell_type": "code",
   "execution_count": 2,
   "metadata": {},
   "outputs": [
    {
     "name": "stdout",
     "output_type": "stream",
     "text": [
      "糖尿病\n",
      "相似詞前 10 排序\n",
      "高血壓,0.99993896484375\n",
      "疾病,0.9999328851699829\n",
      "肥胖,0.9999297857284546\n",
      "高,0.9999279975891113\n",
      "膽固醇,0.9999235272407532\n",
      "家族,0.9999172687530518\n",
      "病史,0.9999150037765503\n",
      "抽菸,0.9999098777770996\n",
      "風險,0.999909520149231\n",
      "心血管,0.9999086260795593\n"
     ]
    },
    {
     "name": "stderr",
     "output_type": "stream",
     "text": [
      "D:\\Anaconda3\\envs\\tensorflow\\lib\\site-packages\\ipykernel_launcher.py:6: DeprecationWarning: Call to deprecated `most_similar` (Method will be removed in 4.0.0, use self.wv.most_similar() instead).\n",
      "  \n"
     ]
    }
   ],
   "source": [
    "# 輸入一個詞，去尋找前十個相似詞\n",
    "\n",
    "query = input()\n",
    "\n",
    "print(\"相似詞前 10 排序\")\n",
    "res = model.most_similar(query, topn = 10)\n",
    "    \n",
    "for item in res:\n",
    "    print(item[0]+\",\"+str(item[1]))"
   ]
  },
  {
   "cell_type": "code",
   "execution_count": 3,
   "metadata": {},
   "outputs": [
    {
     "name": "stdout",
     "output_type": "stream",
     "text": [
      "糖尿病 高血壓\n",
      "計算 Cosine 相似度\n",
      "0.99993892266\n"
     ]
    },
    {
     "name": "stderr",
     "output_type": "stream",
     "text": [
      "D:\\Anaconda3\\envs\\tensorflow\\lib\\site-packages\\ipykernel_launcher.py:7: DeprecationWarning: Call to deprecated `similarity` (Method will be removed in 4.0.0, use self.wv.similarity() instead).\n",
      "  import sys\n"
     ]
    }
   ],
   "source": [
    "#輸入兩個詞，去計算兩個詞的餘弦相似度\n",
    "\n",
    "query = input()\n",
    "q_list = query.split()\n",
    "\n",
    "print(\"計算 Cosine 相似度\")\n",
    "res = model.similarity(q_list[0],q_list[1])\n",
    "print(res)"
   ]
  }
 ],
 "metadata": {
  "kernelspec": {
   "display_name": "Python 3",
   "language": "python",
   "name": "python3"
  },
  "language_info": {
   "codemirror_mode": {
    "name": "ipython",
    "version": 3
   },
   "file_extension": ".py",
   "mimetype": "text/x-python",
   "name": "python",
   "nbconvert_exporter": "python",
   "pygments_lexer": "ipython3",
   "version": "3.6.3"
  }
 },
 "nbformat": 4,
 "nbformat_minor": 2
}
